{
 "cells": [
  {
   "cell_type": "markdown",
   "metadata": {},
   "source": [
    "Hello! This is my garage for possibly useful inventions. It occured to me that I need to get a job\n",
    "\n",
    "Okay so like this has already been built \n",
    "The thing I wanna do is already done....why should that stop me?\n",
    "\n",
    "If I wanted to make cars would I let the existence of the other manufacturers stop me from making and producing cars? No!\n",
    "People want to hire those that will code reguardless of what else is going on\n",
    "\n",
    "On that note there are plenty of python tutorials on how to automate the stuff. Alls I gotta do is go in and see of I can make it run by switching out some parts\n",
    "\n",
    "In looking at the ways to build it I will be using Selenium which is a library that gets the website automation\n",
    "\n",
    "I need selenium and a web driver"
   ]
  },
  {
   "cell_type": "markdown",
   "metadata": {},
   "source": [
    "The tutorial I had found was to be built out in a py file but I wanna mess with the constituant parts first"
   ]
  },
  {
   "cell_type": "code",
   "execution_count": 1,
   "metadata": {},
   "outputs": [],
   "source": [
    "import selenium\n",
    "from selenium import webdriver"
   ]
  },
  {
   "cell_type": "code",
   "execution_count": null,
   "metadata": {},
   "outputs": [],
   "source": [
    "import time"
   ]
  },
  {
   "cell_type": "code",
   "execution_count": 10,
   "metadata": {},
   "outputs": [],
   "source": [
    "link = webdriver.Chrome()\n",
    "link.get(\"https://www.linkedin.com\")"
   ]
  },
  {
   "cell_type": "markdown",
   "metadata": {},
   "source": [
    "After fiddle faddeling with this for an number of errors I now get taken into google chrome, it runs but my landing page says data:,\n",
    "\n",
    "There may be errors but this here is progress\n",
    "\n",
    "Okay so it was because I had written google.com as the link. I had completely forgotten that isn't the format in which they need. Bruh its https not raw website inputs (that stuff is fixed by the browser)"
   ]
  },
  {
   "cell_type": "markdown",
   "metadata": {},
   "source": [
    "Okay so in the worker py file I made\n",
    "It runs as intended, pulls up linkedin and signs me in\n",
    "What I would like the final product to be is to be able sign off on all of the job listings available per loading page.\n",
    "\n",
    "Circa end product that autofills job applications for linked in and it does it all for me anyway\n",
    "\n",
    "An interating machine that \"does all the work for me\""
   ]
  },
  {
   "cell_type": "markdown",
   "metadata": {},
   "source": [
    "I might have to use regex or some sort of text recognition in order to be able to traverse each website. More over what I can also do is look through websites to see the elements being used as well as class classifiers. Yes while a simple text read is good. It can usually be like the text box immediately after saying first name prompt.\n",
    "\n",
    "What does it all need to fill?\n",
    "- First name\n",
    "- Last name\n",
    "- Resume\n",
    "- Phone number\n",
    "- Email\n",
    "- Address\n",
    "\n",
    "The first part of this project is simply going through all of the websites available \n",
    "\n",
    "Second part is autofilling based off of web content\n",
    "\n",
    "Third isto  send it all in."
   ]
  },
  {
   "cell_type": "markdown",
   "metadata": {},
   "source": [
    "So from what I am reading I think I'm gonna have to use beautiful soap in order to read through the website information to be able to find and fill in wahat exactly is needed. Well beautiful soap in order to read the damn websites for. At present all my program is doing is logging into Linkedin and going to the jobs with data analyst in the name of it all. "
   ]
  },
  {
   "cell_type": "markdown",
   "metadata": {},
   "source": [
    "Currently I am at a small stand still when it comes to the next step, there was one youtube video that got me started so maybe finding another would be the way to. While some of the fearures may have been changed around a bit what I need is still there in base components. On my way to the library this morning I thought of how coding can be like cooking. That it may not always look pretty but once you have a couple of dishes done then you can expand from there.  Off to youtube land"
   ]
  },
  {
   "cell_type": "markdown",
   "metadata": {},
   "source": [
    "My most recent error informs me that the pathing solution I am using to go and click the first button ain't working. I thought it was a firefox issues so I copied the file pathing through google chrome and yet the results are still the same"
   ]
  },
  {
   "cell_type": "markdown",
   "metadata": {},
   "source": [
    "Creating a structure for the pathing, building out roads to be able to traverse the list of items so then I will need a layered approach. To itterate over all of my options.\n",
    "\n",
    "What I have also noticed in my trouble shooting attempts is the the x-path changes over and over again. This changes based off of each instance when this loads in a new page. \n",
    "\n",
    "From here what else I would see getting built out I may need to use a different library and set of resources all together. There are probably a handful of "
   ]
  },
  {
   "cell_type": "code",
   "execution_count": null,
   "metadata": {},
   "outputs": [],
   "source": []
  },
  {
   "cell_type": "code",
   "execution_count": null,
   "metadata": {},
   "outputs": [],
   "source": []
  },
  {
   "cell_type": "code",
   "execution_count": null,
   "metadata": {},
   "outputs": [],
   "source": []
  },
  {
   "cell_type": "code",
   "execution_count": null,
   "metadata": {},
   "outputs": [],
   "source": []
  }
 ],
 "metadata": {
  "kernelspec": {
   "display_name": "Python 3.9.7 ('base')",
   "language": "python",
   "name": "python3"
  },
  "language_info": {
   "codemirror_mode": {
    "name": "ipython",
    "version": 3
   },
   "file_extension": ".py",
   "mimetype": "text/x-python",
   "name": "python",
   "nbconvert_exporter": "python",
   "pygments_lexer": "ipython3",
   "version": "3.9.7"
  },
  "orig_nbformat": 4,
  "vscode": {
   "interpreter": {
    "hash": "3067ead486e059ec00ffe7555bdb889e6e264a24dc711bf108106cc7baee8d5d"
   }
  }
 },
 "nbformat": 4,
 "nbformat_minor": 2
}

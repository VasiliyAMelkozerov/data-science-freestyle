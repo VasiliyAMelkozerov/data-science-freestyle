{
 "cells": [
  {
   "cell_type": "markdown",
   "metadata": {},
   "source": [
    "Hello! This is my garage for possibly useful inventions. It occured to me that I need to get a job\n",
    "\n",
    "Okay so like this has already been built \n",
    "The thing I wanna do is already done....why should that stop me?\n",
    "\n",
    "If I wanted to make cars would I let the existence of the other manufacturers stop me from making and producing cars? No!\n",
    "People want to hire those that will code reguardless of what else is going on\n",
    "\n",
    "On that note there are plenty of python tutorials on how to automate the stuff. Alls I gotta do is go in and see of I can make it run by switching out some parts\n",
    "\n",
    "In looking at the ways to build it I will be using Selenium which is a library that gets the website automation\n",
    "\n",
    "I need selenium and a web driver"
   ]
  },
  {
   "cell_type": "code",
   "execution_count": null,
   "metadata": {},
   "outputs": [],
   "source": []
  },
  {
   "cell_type": "code",
   "execution_count": null,
   "metadata": {},
   "outputs": [],
   "source": []
  },
  {
   "cell_type": "code",
   "execution_count": null,
   "metadata": {},
   "outputs": [],
   "source": []
  },
  {
   "cell_type": "code",
   "execution_count": null,
   "metadata": {},
   "outputs": [],
   "source": []
  },
  {
   "cell_type": "code",
   "execution_count": null,
   "metadata": {},
   "outputs": [],
   "source": []
  },
  {
   "cell_type": "code",
   "execution_count": null,
   "metadata": {},
   "outputs": [],
   "source": []
  },
  {
   "cell_type": "code",
   "execution_count": null,
   "metadata": {},
   "outputs": [],
   "source": []
  },
  {
   "cell_type": "code",
   "execution_count": null,
   "metadata": {},
   "outputs": [],
   "source": []
  }
 ],
 "metadata": {
  "language_info": {
   "name": "python"
  },
  "orig_nbformat": 4
 },
 "nbformat": 4,
 "nbformat_minor": 2
}

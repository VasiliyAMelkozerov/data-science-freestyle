{
 "cells": [
  {
   "cell_type": "markdown",
   "metadata": {},
   "source": [
    "# First unguided project\n",
    "This will hold my first solo data exploration that is unguided\n",
    "\n",
    "I am using markdown here to notate what is going on\n",
    "\n",
    "Now I gotta find a proper dataset to do a project\n",
    "\n",
    "Maybe I should start with a topic instead\n",
    "\n",
    "What do I wanna look into?\n",
    "\n",
    "I want to do a projcet where I can use some machine learning techniques\n",
    "\n",
    "I'm gonna go over the material to check out what each practice can do and what it is for\n",
    "\n",
    "I wanna do a clustering project on unladeled data\n",
    "\n",
    "I can revisit the old Time sheet stuff that David gave me"
   ]
  },
  {
   "cell_type": "code",
   "execution_count": 1,
   "metadata": {},
   "outputs": [],
   "source": [
    "import pandas as pd"
   ]
  },
  {
   "cell_type": "code",
   "execution_count": 2,
   "metadata": {},
   "outputs": [
    {
     "data": {
      "text/html": [
       "<div>\n",
       "<style scoped>\n",
       "    .dataframe tbody tr th:only-of-type {\n",
       "        vertical-align: middle;\n",
       "    }\n",
       "\n",
       "    .dataframe tbody tr th {\n",
       "        vertical-align: top;\n",
       "    }\n",
       "\n",
       "    .dataframe thead th {\n",
       "        text-align: right;\n",
       "    }\n",
       "</style>\n",
       "<table border=\"1\" class=\"dataframe\">\n",
       "  <thead>\n",
       "    <tr style=\"text-align: right;\">\n",
       "      <th></th>\n",
       "      <th>fname</th>\n",
       "      <th>local_date</th>\n",
       "      <th>local_day</th>\n",
       "      <th>local_start_time</th>\n",
       "      <th>local_end_time</th>\n",
       "      <th>hours</th>\n",
       "      <th>jobcode_1</th>\n",
       "      <th>jobcode_2</th>\n",
       "      <th>notes</th>\n",
       "    </tr>\n",
       "  </thead>\n",
       "  <tbody>\n",
       "    <tr>\n",
       "      <th>0</th>\n",
       "      <td>Abbott</td>\n",
       "      <td>7/1/2021</td>\n",
       "      <td>Thu</td>\n",
       "      <td>6:40 AM</td>\n",
       "      <td>12:35 PM</td>\n",
       "      <td>5.92</td>\n",
       "      <td>GENOA AWM</td>\n",
       "      <td>ADMIN</td>\n",
       "      <td>NaN</td>\n",
       "    </tr>\n",
       "    <tr>\n",
       "      <th>1</th>\n",
       "      <td>Abbott</td>\n",
       "      <td>7/1/2021</td>\n",
       "      <td>Thu</td>\n",
       "      <td>12:35 PM</td>\n",
       "      <td>1:37 PM</td>\n",
       "      <td>1.03</td>\n",
       "      <td>RECEIVING - SA</td>\n",
       "      <td>NaN</td>\n",
       "      <td>NaN</td>\n",
       "    </tr>\n",
       "    <tr>\n",
       "      <th>2</th>\n",
       "      <td>Abbott</td>\n",
       "      <td>7/1/2021</td>\n",
       "      <td>Thu</td>\n",
       "      <td>1:37 PM</td>\n",
       "      <td>5:06 PM</td>\n",
       "      <td>3.48</td>\n",
       "      <td>GENOA AWM</td>\n",
       "      <td>ADMIN</td>\n",
       "      <td>NaN</td>\n",
       "    </tr>\n",
       "  </tbody>\n",
       "</table>\n",
       "</div>"
      ],
      "text/plain": [
       "    fname local_date local_day local_start_time local_end_time  hours  \\\n",
       "0  Abbott   7/1/2021       Thu          6:40 AM       12:35 PM   5.92   \n",
       "1  Abbott   7/1/2021       Thu         12:35 PM        1:37 PM   1.03   \n",
       "2  Abbott   7/1/2021       Thu          1:37 PM        5:06 PM   3.48   \n",
       "\n",
       "        jobcode_1 jobcode_2 notes  \n",
       "0       GENOA AWM     ADMIN   NaN  \n",
       "1  RECEIVING - SA       NaN   NaN  \n",
       "2       GENOA AWM     ADMIN   NaN  "
      ]
     },
     "execution_count": 2,
     "metadata": {},
     "output_type": "execute_result"
    }
   ],
   "source": [
    "df = pd.read_csv(\"wittigs.csv\")\n",
    "df.head(3)\n",
    "#there are so little features I can pratically list out all of the features in a multt-line comment\n",
    "\"\"\"\n",
    "So there is the name that has been swapped out, \n",
    "local date - month/day/year\n",
    "local_day - day of the week\n",
    "local_start_time - when jobs was first clocked in the morning\n",
    "local_end_time - \n",
    "\"\"\""
   ]
  },
  {
   "cell_type": "markdown",
   "metadata": {},
   "source": [
    "So this is me importing the data to bring in some sort of stuff to work with and be a data scientist about.\n",
    "\n",
    "Initially I wanted to do clustering time series analysis\n",
    "\n",
    "But Jason Straughan had suggest that we don't even have to proud of the thing, just make some things\n",
    "\n",
    "This is perfect because I've been meaning to tinker on my own accord without the concerns and pressures of a time constraint\n",
    "\n",
    "So from the original super-idea I've had I'm going to narrow it down to just a time series analysis\n",
    "\n",
    "As of present I haven't touched clustering or time analysis in a while so this is me re-constructing myself\n",
    "\n",
    "Vanilla time-series analysis now\n",
    "\n",
    "Now before I get anymore into this stuff I am going to need to know this dataset"
   ]
  },
  {
   "cell_type": "code",
   "execution_count": 7,
   "metadata": {},
   "outputs": [
    {
     "data": {
      "text/plain": [
       "(             hours\n",
       " count  8077.000000\n",
       " mean      3.278865\n",
       " std       2.424834\n",
       " min       0.000000\n",
       " 25%       1.000000\n",
       " 50%       3.280000\n",
       " 75%       4.580000\n",
       " max      16.150000,\n",
       " (8077, 9))"
      ]
     },
     "execution_count": 7,
     "metadata": {},
     "output_type": "execute_result"
    }
   ],
   "source": [
    "df.describe(), df.shape\n",
    "#this shows us size of data and what kinda of numbers to expect\n",
    "#okay so now that I have my stuff ready I am going to read more on what exactly it is that I am doing here"
   ]
  },
  {
   "cell_type": "markdown",
   "metadata": {},
   "source": [
    "'Time series analysis is about finding patterns in temporal data and making predictions, or forecasting, based on those patterns.'\n",
    "\n",
    "Time series analysis is about finding patterns in time data and making predictions\n",
    "\n",
    "Time series is kinda like regression with time involved as a dependent variable on previous features\n",
    "\n"
   ]
  },
  {
   "cell_type": "markdown",
   "metadata": {},
   "source": [
    "I have returned back to this project after not seeing it for a number of days. I veer off again into going into a time series clustering ML model. Clustering is a classification algotithm that is based off of unlabeled data. So what does that mean here? It means that it will just give this stuff labels of which it already has by name, job number, date. (As well as a number of other things) So then from here all I can do is store these numbers as categories. Say I do the classification....what now. I think what I need and outta do is make a set of predicitons on how these jobs are going, this will make a set of predictions that is otherwise unheard of. Yes predictions off of labeled continous data will be about the only real ML model I can deploy and make something off."
   ]
  },
  {
   "cell_type": "code",
   "execution_count": null,
   "metadata": {},
   "outputs": [],
   "source": []
  },
  {
   "cell_type": "markdown",
   "metadata": {},
   "source": []
  }
 ],
 "metadata": {
  "kernelspec": {
   "display_name": "Python 3.9.7 ('base')",
   "language": "python",
   "name": "python3"
  },
  "language_info": {
   "codemirror_mode": {
    "name": "ipython",
    "version": 3
   },
   "file_extension": ".py",
   "mimetype": "text/x-python",
   "name": "python",
   "nbconvert_exporter": "python",
   "pygments_lexer": "ipython3",
   "version": "3.9.7"
  },
  "orig_nbformat": 4,
  "vscode": {
   "interpreter": {
    "hash": "3067ead486e059ec00ffe7555bdb889e6e264a24dc711bf108106cc7baee8d5d"
   }
  }
 },
 "nbformat": 4,
 "nbformat_minor": 2
}

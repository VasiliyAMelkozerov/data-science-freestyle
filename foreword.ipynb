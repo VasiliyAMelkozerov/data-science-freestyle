{
 "cells": [
  {
   "cell_type": "markdown",
   "metadata": {},
   "source": [
    "# First unguided project\n",
    "This will hold my first solo data exploration that is unguided\n",
    "\n",
    "I am using markdown here to notate what is going on\n",
    "\n",
    "Now I gotta find a proper dataset to do a project\n",
    "\n",
    "Maybe I should start with a topic instead\n",
    "\n",
    "What do I wanna look into?\n",
    "\n",
    "I want to do a projcet where I can use some machine learning techniques\n",
    "\n",
    "I'm gonna go over the material to check out what each practice can do and what it is for\n",
    "\n",
    "I wanna do a clustering project on unladeled data\n",
    "\n",
    "I can revisit the old Time sheet stuff that David gave me"
   ]
  },
  {
   "cell_type": "code",
   "execution_count": 1,
   "metadata": {},
   "outputs": [],
   "source": [
    "import pandas as pd"
   ]
  },
  {
   "cell_type": "code",
   "execution_count": 2,
   "metadata": {},
   "outputs": [
    {
     "data": {
      "text/html": [
       "<div>\n",
       "<style scoped>\n",
       "    .dataframe tbody tr th:only-of-type {\n",
       "        vertical-align: middle;\n",
       "    }\n",
       "\n",
       "    .dataframe tbody tr th {\n",
       "        vertical-align: top;\n",
       "    }\n",
       "\n",
       "    .dataframe thead th {\n",
       "        text-align: right;\n",
       "    }\n",
       "</style>\n",
       "<table border=\"1\" class=\"dataframe\">\n",
       "  <thead>\n",
       "    <tr style=\"text-align: right;\">\n",
       "      <th></th>\n",
       "      <th>fname</th>\n",
       "      <th>local_date</th>\n",
       "      <th>local_day</th>\n",
       "      <th>local_start_time</th>\n",
       "      <th>local_end_time</th>\n",
       "      <th>hours</th>\n",
       "      <th>jobcode_1</th>\n",
       "      <th>jobcode_2</th>\n",
       "      <th>notes</th>\n",
       "    </tr>\n",
       "  </thead>\n",
       "  <tbody>\n",
       "    <tr>\n",
       "      <th>0</th>\n",
       "      <td>Abbott</td>\n",
       "      <td>7/1/2021</td>\n",
       "      <td>Thu</td>\n",
       "      <td>6:40 AM</td>\n",
       "      <td>12:35 PM</td>\n",
       "      <td>5.92</td>\n",
       "      <td>GENOA AWM</td>\n",
       "      <td>ADMIN</td>\n",
       "      <td>NaN</td>\n",
       "    </tr>\n",
       "    <tr>\n",
       "      <th>1</th>\n",
       "      <td>Abbott</td>\n",
       "      <td>7/1/2021</td>\n",
       "      <td>Thu</td>\n",
       "      <td>12:35 PM</td>\n",
       "      <td>1:37 PM</td>\n",
       "      <td>1.03</td>\n",
       "      <td>RECEIVING - SA</td>\n",
       "      <td>NaN</td>\n",
       "      <td>NaN</td>\n",
       "    </tr>\n",
       "    <tr>\n",
       "      <th>2</th>\n",
       "      <td>Abbott</td>\n",
       "      <td>7/1/2021</td>\n",
       "      <td>Thu</td>\n",
       "      <td>1:37 PM</td>\n",
       "      <td>5:06 PM</td>\n",
       "      <td>3.48</td>\n",
       "      <td>GENOA AWM</td>\n",
       "      <td>ADMIN</td>\n",
       "      <td>NaN</td>\n",
       "    </tr>\n",
       "  </tbody>\n",
       "</table>\n",
       "</div>"
      ],
      "text/plain": [
       "    fname local_date local_day local_start_time local_end_time  hours  \\\n",
       "0  Abbott   7/1/2021       Thu          6:40 AM       12:35 PM   5.92   \n",
       "1  Abbott   7/1/2021       Thu         12:35 PM        1:37 PM   1.03   \n",
       "2  Abbott   7/1/2021       Thu          1:37 PM        5:06 PM   3.48   \n",
       "\n",
       "        jobcode_1 jobcode_2 notes  \n",
       "0       GENOA AWM     ADMIN   NaN  \n",
       "1  RECEIVING - SA       NaN   NaN  \n",
       "2       GENOA AWM     ADMIN   NaN  "
      ]
     },
     "execution_count": 2,
     "metadata": {},
     "output_type": "execute_result"
    }
   ],
   "source": [
    "df = pd.read_csv(\"wittigs.csv\")\n",
    "df.head(3)"
   ]
  },
  {
   "cell_type": "markdown",
   "metadata": {},
   "source": [
    "So this is me importing the data to bring in some sort of stuff to work with and be a data scientist about"
   ]
  },
  {
   "cell_type": "code",
   "execution_count": null,
   "metadata": {},
   "outputs": [],
   "source": []
  },
  {
   "cell_type": "code",
   "execution_count": null,
   "metadata": {},
   "outputs": [],
   "source": []
  },
  {
   "cell_type": "code",
   "execution_count": null,
   "metadata": {},
   "outputs": [],
   "source": []
  },
  {
   "cell_type": "code",
   "execution_count": null,
   "metadata": {},
   "outputs": [],
   "source": []
  },
  {
   "cell_type": "markdown",
   "metadata": {},
   "source": []
  }
 ],
 "metadata": {
  "kernelspec": {
   "display_name": "Python 3.9.7 ('base')",
   "language": "python",
   "name": "python3"
  },
  "language_info": {
   "codemirror_mode": {
    "name": "ipython",
    "version": 3
   },
   "file_extension": ".py",
   "mimetype": "text/x-python",
   "name": "python",
   "nbconvert_exporter": "python",
   "pygments_lexer": "ipython3",
   "version": "3.9.7"
  },
  "orig_nbformat": 4,
  "vscode": {
   "interpreter": {
    "hash": "3067ead486e059ec00ffe7555bdb889e6e264a24dc711bf108106cc7baee8d5d"
   }
  }
 },
 "nbformat": 4,
 "nbformat_minor": 2
}
